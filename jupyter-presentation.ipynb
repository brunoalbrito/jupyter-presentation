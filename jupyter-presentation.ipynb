{
 "cells": [
  {
   "cell_type": "markdown",
   "metadata": {},
   "source": [
    "## Using Jupyter/IPython for Teaching\n",
    "\n",
    "<p xmlns:dct=\"http://purl.org/dc/terms/\">\n",
    "  <a rel=\"license\"\n",
    "     href=\"http://creativecommons.org/publicdomain/zero/1.0/\">\n",
    "    <img src=\"http://i.creativecommons.org/p/zero/1.0/88x31.png\" style=\"border-style: none;\" alt=\"CC0\" />\n",
    "  </a>\n",
    "</p>"
   ]
  },
  {
   "cell_type": "markdown",
   "metadata": {
    "slideshow": {
     "slide_type": "notes"
    }
   },
   "source": [
    "This notebook is meant to be a slide show.\n",
    "If it doesn't look like a slide show, you probably have to install [RISE](https://github.com/damianavila/RISE/) and re-start Jupyter/IPython.\n",
    "\n",
    "    git clone https://github.com/damianavila/RISE.git\n",
    "    cd RISE\n",
    "    python setup.py install --develop --user\n",
    "\n",
    "If you have both Python 2 and 3 installed, you should use `python3` instead of `python`.\n",
    "\n",
    "After the installation, you will have a new item in the toolbar which allows you to start the presentation."
   ]
  },
  {
   "cell_type": "markdown",
   "metadata": {
    "slideshow": {
     "slide_type": "slide"
    }
   },
   "source": [
    "## What is Jupyter?\n",
    "\n",
    "* formerly known as *IPython*\n",
    "\n",
    "* an interactive terminal and a browser-based notebook\n",
    "\n",
    "* can be used with different programming languages:\n",
    "\n",
    "  * **Ju**lia (http://julialang.org/)\n",
    "  \n",
    "  * **Pyt**hon (https://www.python.org/)\n",
    "  \n",
    "  * **R** (http://www.r-project.org/)\n",
    "  \n",
    "  * and others ..."
   ]
  }
 ],
 "metadata": {
  "kernelspec": {
   "display_name": "Python 3",
   "language": "python",
   "name": "python3"
  },
  "language_info": {
   "codemirror_mode": {
    "name": "ipython",
    "version": 3
   },
   "file_extension": ".py",
   "mimetype": "text/x-python",
   "name": "python",
   "nbconvert_exporter": "python",
   "pygments_lexer": "ipython3",
   "version": "3.4.2"
  }
 },
 "nbformat": 4,
 "nbformat_minor": 0
}
